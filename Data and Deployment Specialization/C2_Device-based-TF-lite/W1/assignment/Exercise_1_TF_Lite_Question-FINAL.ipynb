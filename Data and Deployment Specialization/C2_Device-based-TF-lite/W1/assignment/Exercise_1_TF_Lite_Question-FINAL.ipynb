{
 "cells": [
  {
   "cell_type": "markdown",
   "metadata": {},
   "source": [
    "##### Copyright 2018 The TensorFlow Authors."
   ]
  },
  {
   "cell_type": "code",
   "execution_count": 1,
   "metadata": {},
   "outputs": [],
   "source": [
    "# ATTENTION: Please do not alter any of the provided code in the exercise. Only add your own code where indicated\n",
    "# ATTENTION: Please do not add or remove any cells in the exercise. The grader will check specific cells based on the cell position.\n",
    "# ATTENTION: Please use the provided epoch values when training.\n",
    "\n",
    "# Licensed under the Apache License, Version 2.0 (the \"License\");\n",
    "# you may not use this file except in compliance with the License.\n",
    "# You may obtain a copy of the License at\n",
    "#\n",
    "# https://www.apache.org/licenses/LICENSE-2.0\n",
    "#\n",
    "# Unless required by applicable law or agreed to in writing, software\n",
    "# distributed under the License is distributed on an \"AS IS\" BASIS,\n",
    "# WITHOUT WARRANTIES OR CONDITIONS OF ANY KIND, either express or implied.\n",
    "# See the License for the specific language governing permissions and\n",
    "# limitations under the License."
   ]
  },
  {
   "cell_type": "markdown",
   "metadata": {
    "colab_type": "text",
    "id": "Ka96-ajYzxVU"
   },
   "source": [
    "# Train Your Own Model and Convert It to TFLite\n",
    "\n",
    "This notebook uses the [Fashion MNIST](https://github.com/zalandoresearch/fashion-mnist) dataset which contains 70,000 grayscale images in 10 categories. The images show individual articles of clothing at low resolution (28 by 28 pixels), as seen here:\n",
    "\n",
    "<table>\n",
    "  <tr><td>\n",
    "    <img src=\"https://tensorflow.org/images/fashion-mnist-sprite.png\"\n",
    "         alt=\"Fashion MNIST sprite\"  width=\"600\">\n",
    "  </td></tr>\n",
    "  <tr><td align=\"center\">\n",
    "    <b>Figure 1.</b> <a href=\"https://github.com/zalandoresearch/fashion-mnist\">Fashion-MNIST samples</a> (by Zalando, MIT License).<br/>&nbsp;\n",
    "  </td></tr>\n",
    "</table>\n",
    "\n",
    "Fashion MNIST is intended as a drop-in replacement for the classic [MNIST](http://yann.lecun.com/exdb/mnist/) dataset—often used as the \"Hello, World\" of machine learning programs for computer vision. The MNIST dataset contains images of handwritten digits (0, 1, 2, etc.) in a format identical to that of the articles of clothing we'll use here.\n",
    "\n",
    "This uses Fashion MNIST for variety, and because it's a slightly more challenging problem than regular MNIST. Both datasets are relatively small and are used to verify that an algorithm works as expected. They're good starting points to test and debug code.\n",
    "\n",
    "We will use 60,000 images to train the network and 10,000 images to evaluate how accurately the network learned to classify images. You can access the Fashion MNIST directly from TensorFlow. Import and load the Fashion MNIST data directly from TensorFlow:"
   ]
  },
  {
   "cell_type": "markdown",
   "metadata": {
    "colab_type": "text",
    "id": "rjOAfhgd__Sp"
   },
   "source": [
    "# Setup"
   ]
  },
  {
   "cell_type": "code",
   "execution_count": 1,
   "metadata": {
    "colab": {
     "base_uri": "https://localhost:8080/",
     "height": 34
    },
    "colab_type": "code",
    "id": "pfyZKowNAQ4j",
    "outputId": "8a94ac17-d4e7-474f-e984-a5ed389f5352"
   },
   "outputs": [
    {
     "name": "stdout",
     "output_type": "stream",
     "text": [
      "• Using TensorFlow Version: 2.0.0\n",
      "• GPU Device Found.\n"
     ]
    }
   ],
   "source": [
    "# TensorFlow\n",
    "import tensorflow as tf\n",
    "\n",
    "# TensorFlow Datsets\n",
    "import tensorflow_datasets as tfds\n",
    "tfds.disable_progress_bar()\n",
    "\n",
    "# Helper Libraries\n",
    "import numpy as np\n",
    "import matplotlib.pyplot as plt\n",
    "import pathlib\n",
    "\n",
    "from os import getcwd\n",
    "\n",
    "print('\\u2022 Using TensorFlow Version:', tf.__version__)\n",
    "print('\\u2022 GPU Device Found.' if tf.test.is_gpu_available() else '\\u2022 GPU Device Not Found. Running on CPU')"
   ]
  },
  {
   "cell_type": "markdown",
   "metadata": {
    "colab_type": "text",
    "id": "tadPBTEiAprt"
   },
   "source": [
    "# Download Fashion MNIST Dataset\n",
    "\n",
    "We will use TensorFlow Datasets to load the Fashion MNIST dataset. "
   ]
  },
  {
   "cell_type": "code",
   "execution_count": 2,
   "metadata": {
    "colab": {
     "base_uri": "https://localhost:8080/",
     "height": 156
    },
    "colab_type": "code",
    "id": "XcNwi6nFKneZ",
    "outputId": "8e0d8173-6dbd-4ef5-a70b-efc8e9d33802"
   },
   "outputs": [],
   "source": [
    "splits = tfds.Split.ALL.subsplit(weighted=(80, 10, 10))\n",
    "\n",
    "filePath = f\"{getcwd()}/../tmp2/\"\n",
    "splits, info = tfds.load('fashion_mnist', with_info=True, as_supervised=True, split=splits, data_dir=filePath)\n",
    "\n",
    "(train_examples, validation_examples, test_examples) = splits\n",
    "\n",
    "num_examples = info.splits['train'].num_examples\n",
    "num_classes = info.features['label'].num_classes"
   ]
  },
  {
   "cell_type": "markdown",
   "metadata": {},
   "source": [
    "The class names are not included with the dataset, so we will specify them here."
   ]
  },
  {
   "cell_type": "code",
   "execution_count": 3,
   "metadata": {
    "colab": {},
    "colab_type": "code",
    "id": "-eAv71FRm4JE"
   },
   "outputs": [],
   "source": [
    "class_names = ['T-shirt_top', 'Trouser', 'Pullover', 'Dress', 'Coat',\n",
    "               'Sandal', 'Shirt', 'Sneaker', 'Bag', 'Ankle boot']"
   ]
  },
  {
   "cell_type": "code",
   "execution_count": 4,
   "metadata": {
    "colab": {},
    "colab_type": "code",
    "id": "hXe6jNokqX3_"
   },
   "outputs": [],
   "source": [
    "# Create a labels.txt file with the class names\n",
    "with open('labels.txt', 'w') as f:\n",
    "    f.write('\\n'.join(class_names))"
   ]
  },
  {
   "cell_type": "code",
   "execution_count": 5,
   "metadata": {
    "colab": {},
    "colab_type": "code",
    "id": "iubWCThbdN8K"
   },
   "outputs": [],
   "source": [
    "# The images in the dataset are 28 by 28 pixels.\n",
    "IMG_SIZE = 28"
   ]
  },
  {
   "cell_type": "markdown",
   "metadata": {
    "colab_type": "text",
    "id": "ZAkuq0V0Aw2X"
   },
   "source": [
    "# Preprocessing Data"
   ]
  },
  {
   "cell_type": "markdown",
   "metadata": {
    "colab_type": "text",
    "id": "_5SIivkunKCC"
   },
   "source": [
    "## Preprocess"
   ]
  },
  {
   "cell_type": "code",
   "execution_count": 12,
   "metadata": {},
   "outputs": [],
   "source": [
    "# EXERCISE: Write a function to normalize the images.\n",
    "\n",
    "def format_example(image, label):\n",
    "    # Cast image to float32\n",
    "    image = tf.image.convert_image_dtype(image, dtype=tf.float32)\n",
    "        \n",
    "    # Normalize the image in the range [0, 1]\n",
    "    image = tf.image.resize(image, (28,28)) / 255.0\n",
    "    \n",
    "    return image, label"
   ]
  },
  {
   "cell_type": "code",
   "execution_count": 13,
   "metadata": {
    "colab": {},
    "colab_type": "code",
    "id": "HAlBlXOUMwqe"
   },
   "outputs": [],
   "source": [
    "# Specify the batch size\n",
    "BATCH_SIZE = 256"
   ]
  },
  {
   "cell_type": "markdown",
   "metadata": {
    "colab_type": "text",
    "id": "JM4HfIJtnNEk"
   },
   "source": [
    "## Create Datasets From Images and Labels"
   ]
  },
  {
   "cell_type": "code",
   "execution_count": 14,
   "metadata": {},
   "outputs": [],
   "source": [
    "# Create Datasets\n",
    "train_batches = train_examples.cache().shuffle(num_examples//4).batch(BATCH_SIZE).map(format_example).prefetch(1)\n",
    "validation_batches = validation_examples.cache().batch(BATCH_SIZE).map(format_example)\n",
    "test_batches = test_examples.map(format_example).batch(1)"
   ]
  },
  {
   "cell_type": "markdown",
   "metadata": {
    "colab_type": "text",
    "id": "M-topQaOm_LM"
   },
   "source": [
    "# Building the Model"
   ]
  },
  {
   "cell_type": "markdown",
   "metadata": {},
   "source": [
    "```\n",
    "Model: \"sequential\"\n",
    "_________________________________________________________________\n",
    "Layer (type)                 Output Shape              Param #   \n",
    "=================================================================\n",
    "conv2d (Conv2D)              (None, 26, 26, 16)        160       \n",
    "_________________________________________________________________\n",
    "max_pooling2d (MaxPooling2D) (None, 13, 13, 16)        0         \n",
    "_________________________________________________________________\n",
    "conv2d_1 (Conv2D)            (None, 11, 11, 32)        4640      \n",
    "_________________________________________________________________\n",
    "flatten (Flatten)            (None, 3872)              0         \n",
    "_________________________________________________________________\n",
    "dense (Dense)                (None, 64)                247872    \n",
    "_________________________________________________________________\n",
    "dense_1 (Dense)              (None, 10)                650       \n",
    "=================================================================\n",
    "Total params: 253,322\n",
    "Trainable params: 253,322\n",
    "Non-trainable params: 0\n",
    "```"
   ]
  },
  {
   "cell_type": "code",
   "execution_count": 17,
   "metadata": {},
   "outputs": [],
   "source": [
    "# EXERCISE: Build and compile the model shown in the previous cell.\n",
    "\n",
    "model = tf.keras.Sequential([\n",
    "    # Set the input shape to (28, 28, 1), kernel size=3, filters=16 and use ReLU activation,\n",
    "    tf.keras.layers.Conv2D(16, (3,3), activation=\"relu\", input_shape=(28,28,1)),\n",
    "      \n",
    "    tf.keras.layers.MaxPooling2D(),\n",
    "      \n",
    "    # Set the number of filters to 32, kernel size to 3 and use ReLU activation \n",
    "    tf.keras.layers.Conv2D(32, (3,3), activation=\"relu\"),\n",
    "      \n",
    "    # Flatten the output layer to 1 dimension\n",
    "    tf.keras.layers.Flatten(),\n",
    "      \n",
    "    # Add a fully connected layer with 64 hidden units and ReLU activation\n",
    "    tf.keras.layers.Dense(64, activation=\"relu\"),\n",
    "      \n",
    "    # Attach a final softmax classification head\n",
    "    tf.keras.layers.Dense(10, activation=\"softmax\")])\n",
    "\n",
    "# Set the appropriate loss function and use accuracy as your metric\n",
    "model.compile(optimizer='adam',\n",
    "              loss='sparse_categorical_crossentropy',\n",
    "              metrics=[\"accuracy\"])"
   ]
  },
  {
   "cell_type": "markdown",
   "metadata": {
    "colab_type": "text",
    "id": "zEMOz-LDnxgD"
   },
   "source": [
    "## Train"
   ]
  },
  {
   "cell_type": "code",
   "execution_count": 18,
   "metadata": {
    "colab": {},
    "colab_type": "code",
    "id": "JGlNoRtzCP4_"
   },
   "outputs": [
    {
     "name": "stdout",
     "output_type": "stream",
     "text": [
      "Epoch 1/10\n",
      "219/219 [==============================] - 111s 507ms/step - loss: 1.4315 - accuracy: 0.5049 - val_loss: 0.0000e+00 - val_accuracy: 0.0000e+00\n",
      "Epoch 2/10\n",
      "219/219 [==============================] - 4s 20ms/step - loss: 0.7546 - accuracy: 0.7232 - val_loss: 0.7029 - val_accuracy: 0.7481\n",
      "Epoch 3/10\n",
      "219/219 [==============================] - 4s 18ms/step - loss: 0.6774 - accuracy: 0.7504 - val_loss: 0.6487 - val_accuracy: 0.7616\n",
      "Epoch 4/10\n",
      "219/219 [==============================] - 3s 15ms/step - loss: 0.6300 - accuracy: 0.7658 - val_loss: 0.6033 - val_accuracy: 0.7781\n",
      "Epoch 5/10\n",
      "219/219 [==============================] - 3s 16ms/step - loss: 0.5933 - accuracy: 0.7805 - val_loss: 0.5671 - val_accuracy: 0.7904\n",
      "Epoch 6/10\n",
      "219/219 [==============================] - 3s 16ms/step - loss: 0.5665 - accuracy: 0.7893 - val_loss: 0.5596 - val_accuracy: 0.7947\n",
      "Epoch 7/10\n",
      "219/219 [==============================] - 4s 18ms/step - loss: 0.5487 - accuracy: 0.7973 - val_loss: 0.5265 - val_accuracy: 0.8103\n",
      "Epoch 8/10\n",
      "219/219 [==============================] - 3s 15ms/step - loss: 0.5284 - accuracy: 0.8039 - val_loss: 0.5203 - val_accuracy: 0.8110\n",
      "Epoch 9/10\n",
      "219/219 [==============================] - 3s 15ms/step - loss: 0.5158 - accuracy: 0.8111 - val_loss: 0.5104 - val_accuracy: 0.8150\n",
      "Epoch 10/10\n",
      "219/219 [==============================] - 4s 16ms/step - loss: 0.5013 - accuracy: 0.8175 - val_loss: 0.5010 - val_accuracy: 0.8141\n"
     ]
    }
   ],
   "source": [
    "history = model.fit(train_batches, epochs=10, validation_data=validation_batches)"
   ]
  },
  {
   "cell_type": "markdown",
   "metadata": {
    "colab_type": "text",
    "id": "TZT9-7w9n4YO"
   },
   "source": [
    "# Exporting to TFLite\n",
    "\n",
    "You will now save the model to TFLite. We should note, that you will probably see some warning messages when running the code below. These warnings have to do with software updates and should not cause any errors or prevent your code from running. "
   ]
  },
  {
   "cell_type": "code",
   "execution_count": 19,
   "metadata": {},
   "outputs": [
    {
     "name": "stdout",
     "output_type": "stream",
     "text": [
      "WARNING:tensorflow:From /usr/local/lib/python3.6/dist-packages/tensorflow_core/python/ops/resource_variable_ops.py:1781: calling BaseResourceVariable.__init__ (from tensorflow.python.ops.resource_variable_ops) with constraint is deprecated and will be removed in a future version.\n",
      "Instructions for updating:\n",
      "If using Keras pass *_constraint arguments to layers.\n"
     ]
    },
    {
     "name": "stderr",
     "output_type": "stream",
     "text": [
      "WARNING:tensorflow:From /usr/local/lib/python3.6/dist-packages/tensorflow_core/python/ops/resource_variable_ops.py:1781: calling BaseResourceVariable.__init__ (from tensorflow.python.ops.resource_variable_ops) with constraint is deprecated and will be removed in a future version.\n",
      "Instructions for updating:\n",
      "If using Keras pass *_constraint arguments to layers.\n"
     ]
    },
    {
     "name": "stdout",
     "output_type": "stream",
     "text": [
      "INFO:tensorflow:Assets written to: saved_model/1/assets\n"
     ]
    },
    {
     "name": "stderr",
     "output_type": "stream",
     "text": [
      "INFO:tensorflow:Assets written to: saved_model/1/assets\n"
     ]
    }
   ],
   "source": [
    "# EXERCISE: Use the tf.saved_model API to save your model in the SavedModel format. \n",
    "export_dir = 'saved_model/1'\n",
    "\n",
    "# YOUR CODE HERE\n",
    "tf.saved_model.save(model, export_dir)"
   ]
  },
  {
   "cell_type": "code",
   "execution_count": 20,
   "metadata": {
    "cellView": "form",
    "colab": {},
    "colab_type": "code",
    "id": "EDGiYrBdE6fl"
   },
   "outputs": [],
   "source": [
    "# Select mode of optimization\n",
    "mode = \"Speed\" \n",
    "\n",
    "if mode == 'Storage':\n",
    "    optimization = tf.lite.Optimize.OPTIMIZE_FOR_SIZE\n",
    "elif mode == 'Speed':\n",
    "    optimization = tf.lite.Optimize.OPTIMIZE_FOR_LATENCY\n",
    "else:\n",
    "    optimization = tf.lite.Optimize.DEFAULT"
   ]
  },
  {
   "cell_type": "code",
   "execution_count": 21,
   "metadata": {},
   "outputs": [],
   "source": [
    "# EXERCISE: Use the TFLiteConverter SavedModel API to initialize the converter\n",
    "\n",
    "converter = tf.lite.TFLiteConverter.from_saved_model(export_dir)\n",
    "\n",
    "# Set the optimzations\n",
    "converter.optimizations = [tf.lite.Optimize.DEFAULT]\n",
    "\n",
    "# Invoke the converter to finally generate the TFLite model\n",
    "tflite_model = converter.convert()"
   ]
  },
  {
   "cell_type": "code",
   "execution_count": 22,
   "metadata": {
    "colab": {
     "base_uri": "https://localhost:8080/",
     "height": 34
    },
    "colab_type": "code",
    "id": "q5PWCDsTC3El",
    "outputId": "97349e68-0bff-41cd-ad48-90a6abb85f11"
   },
   "outputs": [
    {
     "data": {
      "text/plain": [
       "258656"
      ]
     },
     "execution_count": 22,
     "metadata": {},
     "output_type": "execute_result"
    }
   ],
   "source": [
    "tflite_model_file = pathlib.Path('./model.tflite')\n",
    "tflite_model_file.write_bytes(tflite_model)"
   ]
  },
  {
   "cell_type": "markdown",
   "metadata": {
    "colab_type": "text",
    "id": "SR6wFcQ1Fglm"
   },
   "source": [
    "# Test the Model with TFLite Interpreter "
   ]
  },
  {
   "cell_type": "code",
   "execution_count": 23,
   "metadata": {
    "colab": {},
    "colab_type": "code",
    "id": "rKcToCBEC-Bu"
   },
   "outputs": [],
   "source": [
    "# Load TFLite model and allocate tensors.\n",
    "interpreter = tf.lite.Interpreter(model_content=tflite_model)\n",
    "interpreter.allocate_tensors()\n",
    "\n",
    "input_index = interpreter.get_input_details()[0][\"index\"]\n",
    "output_index = interpreter.get_output_details()[0][\"index\"]"
   ]
  },
  {
   "cell_type": "code",
   "execution_count": 24,
   "metadata": {
    "colab": {},
    "colab_type": "code",
    "id": "E8EpFpIBFkq8"
   },
   "outputs": [],
   "source": [
    "# Gather results for the randomly sampled test images\n",
    "predictions = []\n",
    "test_labels = []\n",
    "test_images = []\n",
    "\n",
    "for img, label in test_batches.take(50):\n",
    "    interpreter.set_tensor(input_index, img)\n",
    "    interpreter.invoke()\n",
    "    predictions.append(interpreter.get_tensor(output_index))\n",
    "    test_labels.append(label[0])\n",
    "    test_images.append(np.array(img))"
   ]
  },
  {
   "cell_type": "code",
   "execution_count": 25,
   "metadata": {
    "cellView": "form",
    "colab": {},
    "colab_type": "code",
    "id": "kSjTmi05Tyod"
   },
   "outputs": [],
   "source": [
    "# Utilities functions for plotting\n",
    "\n",
    "def plot_image(i, predictions_array, true_label, img):\n",
    "    predictions_array, true_label, img = predictions_array[i], true_label[i], img[i]\n",
    "    plt.grid(False)\n",
    "    plt.xticks([])\n",
    "    plt.yticks([])\n",
    "    \n",
    "    img = np.squeeze(img)\n",
    "    \n",
    "    plt.imshow(img, cmap=plt.cm.binary)\n",
    "    \n",
    "    predicted_label = np.argmax(predictions_array)\n",
    "    \n",
    "    if predicted_label == true_label.numpy():\n",
    "        color = 'green'\n",
    "    else:\n",
    "        color = 'red'\n",
    "        \n",
    "    plt.xlabel(\"{} {:2.0f}% ({})\".format(class_names[predicted_label],\n",
    "                                         100*np.max(predictions_array),\n",
    "                                         class_names[true_label]),\n",
    "                                         color=color)\n",
    "\n",
    "def plot_value_array(i, predictions_array, true_label):\n",
    "    predictions_array, true_label = predictions_array[i], true_label[i]\n",
    "    plt.grid(False)\n",
    "    plt.xticks(list(range(10)))\n",
    "    plt.yticks([])\n",
    "    thisplot = plt.bar(range(10), predictions_array[0], color=\"#777777\")\n",
    "    plt.ylim([0, 1])\n",
    "    predicted_label = np.argmax(predictions_array[0])\n",
    "    \n",
    "    thisplot[predicted_label].set_color('red')\n",
    "    thisplot[true_label].set_color('blue')"
   ]
  },
  {
   "cell_type": "code",
   "execution_count": 26,
   "metadata": {
    "cellView": "form",
    "colab": {
     "base_uri": "https://localhost:8080/",
     "height": 201
    },
    "colab_type": "code",
    "id": "ZZwg0wFaVXhZ",
    "outputId": "f9676edc-f305-4115-938b-389286d2228d"
   },
   "outputs": [
    {
     "data": {
      "image/png": "[encoded data removed]",
      "text/plain": [
       "<Figure size 432x216 with 2 Axes>"
      ]
     },
     "metadata": {
      "needs_background": "light"
     },
     "output_type": "display_data"
    }
   ],
   "source": [
    "# Visualize the outputs\n",
    "\n",
    "# Select index of image to display. Minimum index value is 1 and max index value is 50. \n",
    "index = 49 \n",
    "\n",
    "plt.figure(figsize=(6,3))\n",
    "plt.subplot(1,2,1)\n",
    "plot_image(index, predictions, test_labels, test_images)\n",
    "plt.subplot(1,2,2)\n",
    "plot_value_array(index, predictions, test_labels)\n",
    "plt.show()"
   ]
  },
  {
   "cell_type": "markdown",
   "metadata": {},
   "source": [
    "# Click the Submit Assignment Button Above\n",
    "\n",
    "You should now click the Submit Assignment button above to submit your notebook for grading. Once you have submitted your assignment, you can continue with the optinal section below. \n",
    "\n",
    "## If you are done, please **don't forget to run the last two cells of this notebook** to save your work and close the Notebook to free up resources for your fellow learners. "
   ]
  },
  {
   "cell_type": "markdown",
   "metadata": {
    "colab_type": "text",
    "id": "H8t7_jRiz9Vw"
   },
   "source": [
    "# Prepare the Test Images for Download (Optional)"
   ]
  },
  {
   "cell_type": "code",
   "execution_count": 27,
   "metadata": {
    "colab": {},
    "colab_type": "code",
    "id": "Fi09nIps0gBu"
   },
   "outputs": [],
   "source": [
    "!mkdir -p test_images"
   ]
  },
  {
   "cell_type": "code",
   "execution_count": 28,
   "metadata": {
    "colab": {},
    "colab_type": "code",
    "id": "sF7EZ63J0hZs"
   },
   "outputs": [],
   "source": [
    "from PIL import Image\n",
    "\n",
    "for index, (image, label) in enumerate(test_batches.take(50)):\n",
    "    image = tf.cast(image * 255.0, tf.uint8)\n",
    "    image = tf.squeeze(image).numpy()\n",
    "    pil_image = Image.fromarray(image)\n",
    "    pil_image.save('test_images/{}_{}.jpg'.format(class_names[label[0]].lower(), index))"
   ]
  },
  {
   "cell_type": "code",
   "execution_count": 29,
   "metadata": {
    "colab": {},
    "colab_type": "code",
    "id": "uM35O-uv0iWS"
   },
   "outputs": [
    {
     "name": "stdout",
     "output_type": "stream",
     "text": [
      "'ankle boot_13.jpg'   coat_42.jpg       sandal_17.jpg\t sneaker_22.jpg\r\n",
      "'ankle boot_16.jpg'   coat_8.jpg        sandal_20.jpg\t sneaker_31.jpg\r\n",
      "'ankle boot_18.jpg'   dress_1.jpg       sandal_28.jpg\t sneaker_37.jpg\r\n",
      "'ankle boot_49.jpg'   dress_11.jpg      sandal_32.jpg\t sneaker_40.jpg\r\n",
      " bag_15.jpg\t      dress_12.jpg      sandal_47.jpg\t sneaker_44.jpg\r\n",
      " bag_24.jpg\t      dress_21.jpg      shirt_3.jpg\t t-shirt_top_41.jpg\r\n",
      " bag_25.jpg\t      dress_45.jpg      shirt_33.jpg\t t-shirt_top_43.jpg\r\n",
      " bag_29.jpg\t      dress_46.jpg      shirt_38.jpg\t trouser_0.jpg\r\n",
      " bag_34.jpg\t      pullover_23.jpg   shirt_4.jpg\t trouser_14.jpg\r\n",
      " bag_5.jpg\t      pullover_26.jpg   shirt_6.jpg\t trouser_2.jpg\r\n",
      " bag_7.jpg\t      pullover_36.jpg   shirt_9.jpg\t trouser_30.jpg\r\n",
      " coat_27.jpg\t      pullover_39.jpg   sneaker_10.jpg\r\n",
      " coat_35.jpg\t      pullover_48.jpg   sneaker_19.jpg\r\n"
     ]
    }
   ],
   "source": [
    "!ls test_images"
   ]
  },
  {
   "cell_type": "code",
   "execution_count": 30,
   "metadata": {
    "colab": {},
    "colab_type": "code",
    "id": "aR20r4qW0jVm"
   },
   "outputs": [],
   "source": [
    "!tar --create --file=fmnist_test_images.tar test_images"
   ]
  },
  {
   "cell_type": "code",
   "execution_count": 31,
   "metadata": {},
   "outputs": [
    {
     "name": "stdout",
     "output_type": "stream",
     "text": [
      "Exercise_1_TF_Lite_Question-FINAL.ipynb  labels.txt    saved_model\r\n",
      "fmnist_test_images.tar\t\t\t model.tflite  test_images\r\n"
     ]
    }
   ],
   "source": [
    "!ls"
   ]
  },
  {
   "cell_type": "markdown",
   "metadata": {},
   "source": [
    "# When you're done/would like to take a break, please run the two cells below to save your work and close the Notebook. This frees up resources for your fellow learners."
   ]
  },
  {
   "cell_type": "code",
   "execution_count": 32,
   "metadata": {},
   "outputs": [
    {
     "data": {
      "application/javascript": [
       "<!-- Save the notebook -->\n",
       "IPython.notebook.save_checkpoint();\n"
      ],
      "text/plain": [
       "<IPython.core.display.Javascript object>"
      ]
     },
     "metadata": {},
     "output_type": "display_data"
    }
   ],
   "source": [
    "%%javascript\n",
    "<!-- Save the notebook -->\n",
    "IPython.notebook.save_checkpoint();"
   ]
  },
  {
   "cell_type": "code",
   "execution_count": null,
   "metadata": {},
   "outputs": [
    {
     "data": {
      "application/javascript": [
       "<!-- Shutdown and close the notebook -->\n",
       "window.onbeforeunload = null\n",
       "window.close();\n",
       "IPython.notebook.session.delete();\n"
      ],
      "text/plain": [
       "<IPython.core.display.Javascript object>"
      ]
     },
     "metadata": {},
     "output_type": "display_data"
    }
   ],
   "source": [
    "%%javascript\n",
    "<!-- Shutdown and close the notebook -->\n",
    "window.onbeforeunload = null\n",
    "window.close();\n",
    "IPython.notebook.session.delete();"
   ]
  },
  {
   "cell_type": "code",
   "execution_count": null,
   "metadata": {},
   "outputs": [],
   "source": []
  }
 ],
 "metadata": {
  "accelerator": "GPU",
  "colab": {
   "collapsed_sections": [],
   "name": "TF Lite Week 1 Exercise - Answer",
   "provenance": [],
   "toc_visible": true,
   "version": "0.3.2"
  },
  "coursera": {
   "course_slug": "device-based-models-tensorflow",
   "graded_item_id": "sCFzO",
   "launcher_item_id": "fJyaf"
  },
  "kernelspec": {
   "display_name": "Python 3",
   "language": "python",
   "name": "python3"
  },
  "language_info": {
   "codemirror_mode": {
    "name": "ipython",
    "version": 3
   },
   "file_extension": ".py",
   "mimetype": "text/x-python",
   "name": "python",
   "nbconvert_exporter": "python",
   "pygments_lexer": "ipython3",
   "version": "3.6.8"
  }
 },
 "nbformat": 4,
 "nbformat_minor": 1
}
